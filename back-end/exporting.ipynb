{
 "cells": [
  {
   "cell_type": "markdown",
   "metadata": {},
   "source": [
    "# Imports"
   ]
  },
  {
   "cell_type": "code",
   "execution_count": 1,
   "metadata": {},
   "outputs": [],
   "source": [
    "import csv\n",
    "import firebase_admin\n",
    "from firebase_admin import credentials\n",
    "from firebase_admin import firestore"
   ]
  },
  {
   "cell_type": "markdown",
   "metadata": {},
   "source": [
    "# Initialize Firestore"
   ]
  },
  {
   "cell_type": "code",
   "execution_count": 2,
   "metadata": {},
   "outputs": [
    {
     "data": {
      "text/plain": [
       "<firebase_admin.App at 0x2311da6bc20>"
      ]
     },
     "execution_count": 2,
     "metadata": {},
     "output_type": "execute_result"
    }
   ],
   "source": [
    "# Initialize Firebase Admin SDK with provided firebaseConfig\n",
    "cred = credentials.Certificate(\"./firebase.json\")\n",
    "firebase_admin.initialize_app(cred)"
   ]
  },
  {
   "cell_type": "markdown",
   "metadata": {},
   "source": [
    "# Function to convert a collection to csv"
   ]
  },
  {
   "cell_type": "code",
   "execution_count": 3,
   "metadata": {},
   "outputs": [],
   "source": [
    "def export_firestore_collection_to_csv(collection_name, csv_file_path):\n",
    "    # Get all documents from the collection\n",
    "    docs = firestore.client().collection(collection_name).stream()\n",
    "\n",
    "    # Define the desired order of columns (excluding createdAt)\n",
    "    desired_order = ['email', 'firstName', 'lastName', 'nickname', 'phone', 'graduationYear', 'footPref', 'position']\n",
    "\n",
    "    # Open CSV file for writing\n",
    "    with open(csv_file_path, 'w', newline='') as csvfile:\n",
    "        # Initialize a set to store all field names encountered\n",
    "        fieldnames = set()\n",
    "\n",
    "        # Iterate over all documents to collect field names\n",
    "        for doc in docs:\n",
    "            doc_data = doc.to_dict()\n",
    "            fieldnames.update(doc_data.keys())\n",
    "\n",
    "        # Sort the fieldnames so that the desired order comes first (excluding createdAt)\n",
    "        fieldnames = sorted(fieldnames, key=lambda x: desired_order.index(x) if x in desired_order else len(desired_order))\n",
    "\n",
    "        # Remove the 'createdAt' column from the fieldnames list\n",
    "        fieldnames.remove('createdAt')\n",
    "\n",
    "        # Write data to CSV\n",
    "        writer = csv.DictWriter(csvfile, fieldnames=fieldnames)\n",
    "        writer.writeheader()\n",
    "\n",
    "        # Reset the stream to write data again\n",
    "        docs = firestore.client().collection(collection_name).stream()\n",
    "\n",
    "        for doc in docs:\n",
    "            doc_data = doc.to_dict()\n",
    "            # Exclude 'createdAt' from the document data\n",
    "            doc_data.pop('createdAt', None)\n",
    "            writer.writerow(doc_data)\n"
   ]
  },
  {
   "cell_type": "markdown",
   "metadata": {},
   "source": [
    "# Using conversion on 'users' column"
   ]
  },
  {
   "cell_type": "code",
   "execution_count": 4,
   "metadata": {},
   "outputs": [],
   "source": [
    "export_firestore_collection_to_csv('users', 'users.csv')\n"
   ]
  }
 ],
 "metadata": {
  "kernelspec": {
   "display_name": "Python 3",
   "language": "python",
   "name": "python3"
  },
  "language_info": {
   "codemirror_mode": {
    "name": "ipython",
    "version": 3
   },
   "file_extension": ".py",
   "mimetype": "text/x-python",
   "name": "python",
   "nbconvert_exporter": "python",
   "pygments_lexer": "ipython3",
   "version": "3.12.0"
  }
 },
 "nbformat": 4,
 "nbformat_minor": 2
}
