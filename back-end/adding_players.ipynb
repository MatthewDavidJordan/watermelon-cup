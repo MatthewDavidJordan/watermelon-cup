{
 "cells": [
  {
   "cell_type": "code",
   "execution_count": 2,
   "metadata": {},
   "outputs": [],
   "source": [
    "import firebase_admin\n",
    "from firebase_admin import credentials, firestore"
   ]
  },
  {
   "cell_type": "code",
   "execution_count": 3,
   "metadata": {},
   "outputs": [],
   "source": [
    "# Initialize Firebase Admin SDK\n",
    "cred = credentials.Certificate('./firebase.json')\n",
    "firebase_admin.initialize_app(cred)\n",
    "\n",
    "# Initialize Firestore database\n",
    "db = firestore.client()"
   ]
  },
  {
   "cell_type": "code",
   "execution_count": 5,
   "metadata": {},
   "outputs": [],
   "source": [
    "def add_players_to_team(league_name, team_name, player_emails):\n",
    "    # Query the leagues collection to find the document with the specified league name\n",
    "    leagues_ref = db.collection('leagues')\n",
    "    league_query = leagues_ref.where('name', '==', league_name).limit(1)\n",
    "    league_results = league_query.stream()\n",
    "\n",
    "    league_doc_id = None\n",
    "    for doc in league_results:\n",
    "        league_doc_id = doc.id\n",
    "        break\n",
    "\n",
    "    if league_doc_id is None:\n",
    "        print(f\"No league found with the name {league_name}\")\n",
    "        return\n",
    "\n",
    "    # Query the teams collection within the found league document to find the team with the specified name\n",
    "    teams_ref = db.collection('leagues').document(league_doc_id).collection('teams')\n",
    "    team_query = teams_ref.where('name', '==', team_name).limit(1)\n",
    "    team_results = team_query.stream()\n",
    "\n",
    "    team_doc_id = None\n",
    "    for doc in team_results:\n",
    "        team_doc_id = doc.id\n",
    "        break\n",
    "\n",
    "    if team_doc_id is None:\n",
    "        print(f\"No team found with the name {team_name}\")\n",
    "        return\n",
    "\n",
    "    # Reference to the specific team within the found league document\n",
    "    team_ref = teams_ref.document(team_doc_id)\n",
    "    \n",
    "    # Update the team's players array\n",
    "    team_ref.update({\n",
    "        'players': firestore.ArrayUnion(player_emails)\n",
    "    })"
   ]
  },
  {
   "cell_type": "code",
   "execution_count": 14,
   "metadata": {},
   "outputs": [],
   "source": [
    "# Set variables\n",
    "league_name = \"Watermelon Cup 2024\"\n",
    "team_name = \"Ireland\"\n",
    "player_emails = [\n",
    "    \"macmulv@icloud.com\",\n",
    "    \"eeiger32@gmail.com\",\n",
    "    \"wammurray4@gmail.com\",\n",
    "    \"nrossoni09@gmail.com\",\n",
    "    \"55955bwd@gmail.com\",\n",
    "    \"dmhill5000@gmail.com\",\n",
    "    \"mdj82@georgetown.edu\",\n",
    "    \"ryan.k.allen.04@gmail.com\",\n",
    "    \"mstepanis@yahoo.com\",\n",
    "    \"aa1005012@students.westportps.org\",\n",
    "    \"anitarvind9@gmail.com\",\n",
    "    \"pedro@tankshipintl.com\",\n",
    "    \"greyepstein88@gmail.com\",\n",
    "    \"jeremy.rosenkranz@gmail.com\",\n",
    "    \"ronnimolinari@gmail.com\",\n",
    "    \"foofik25@gmail.com\",\n",
    "    \"Vedpdeo@Gmail.com\",\n",
    "    \"dmcummings24@gmail.com\",\n",
    "    \"janetazev@gmail.com\"\n",
    "]\n",
    "\n",
    "\n",
    "\n"
   ]
  },
  {
   "cell_type": "code",
   "execution_count": 15,
   "metadata": {},
   "outputs": [],
   "source": [
    "add_players_to_team(league_name, team_name, player_emails)"
   ]
  }
 ],
 "metadata": {
  "kernelspec": {
   "display_name": "Python 3",
   "language": "python",
   "name": "python3"
  },
  "language_info": {
   "codemirror_mode": {
    "name": "ipython",
    "version": 3
   },
   "file_extension": ".py",
   "mimetype": "text/x-python",
   "name": "python",
   "nbconvert_exporter": "python",
   "pygments_lexer": "ipython3",
   "version": "3.12.0"
  }
 },
 "nbformat": 4,
 "nbformat_minor": 2
}
